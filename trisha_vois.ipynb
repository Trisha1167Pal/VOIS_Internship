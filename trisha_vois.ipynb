{
 "cells": [
  {
   "cell_type": "code",
   "execution_count": 1,
   "id": "d28f0132-3979-4cbc-a965-f8a3cf39a210",
   "metadata": {},
   "outputs": [
    {
     "name": "stdin",
     "output_type": "stream",
     "text": [
      "Enter secret message:  hey there\n",
      "Enter passcode:  1234\n",
      "enter the encryption passcode :  1234\n"
     ]
    },
    {
     "name": "stdout",
     "output_type": "stream",
     "text": [
      "Decrypted message :  hey there\n"
     ]
    }
   ],
   "source": [
    "import cv2\n",
    "import os \n",
    "import string\n",
    "\n",
    "img = cv2.imread('flower.jpeg')\n",
    "msg = input(\"Enter secret message: \")\n",
    "pwd = input(\"Enter passcode: \")\n",
    "\n",
    "d = {}\n",
    "c = {}\n",
    "\n",
    "for i in range(0,255):\n",
    "    d[chr(i)] = i\n",
    "    c[i] = chr(i)\n",
    "\n",
    "n = 0\n",
    "m = 0\n",
    "z = 0\n",
    "for i in range(len(msg)):\n",
    "    img[n,m,z] = d[msg[i]]\n",
    "    n = n + 1\n",
    "    m = m + 1\n",
    "    z = (z + 1)%3\n",
    "\n",
    "cv2.imwrite(\"newFlowerImage.jpeg\",img)\n",
    "os.startfile(\"newFlowerImage.jpeg\")\n",
    "\n",
    "message = \"\"\n",
    "n = 0\n",
    "m = 0\n",
    "z = 0\n",
    "psd = input(\"enter the encryption passcode : \")\n",
    "if(pwd == psd):\n",
    "    for i in range(len(msg)):\n",
    "        message  = message + c[img[n,m,z]]\n",
    "        n = n + 1\n",
    "        m = m + 1\n",
    "        z = (z + 1)%3\n",
    "    print(\"Decrypted message : \",message)\n",
    "else:\n",
    "    print(\"You are not authenticated\")"
   ]
  }
 ],
 "metadata": {
  "kernelspec": {
   "display_name": "Python 3 (ipykernel)",
   "language": "python",
   "name": "python3"
  },
  "language_info": {
   "codemirror_mode": {
    "name": "ipython",
    "version": 3
   },
   "file_extension": ".py",
   "mimetype": "text/x-python",
   "name": "python",
   "nbconvert_exporter": "python",
   "pygments_lexer": "ipython3",
   "version": "3.12.0"
  }
 },
 "nbformat": 4,
 "nbformat_minor": 5
}
